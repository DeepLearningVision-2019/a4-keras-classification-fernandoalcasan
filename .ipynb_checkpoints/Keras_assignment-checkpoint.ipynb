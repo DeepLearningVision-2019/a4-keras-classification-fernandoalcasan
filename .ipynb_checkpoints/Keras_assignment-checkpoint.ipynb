{
 "cells": [
  {
   "cell_type": "markdown",
   "metadata": {},
   "source": [
    "# Classify different data sets"
   ]
  },
  {
   "cell_type": "markdown",
   "metadata": {},
   "source": [
    "### Basic includes"
   ]
  },
  {
   "cell_type": "code",
   "execution_count": 217,
   "metadata": {},
   "outputs": [],
   "source": [
    "# Using pandas to load the csv file\n",
    "import pandas as pd\n",
    "\n",
    "import numpy as np\n",
    "import matplotlib.pyplot as plt\n",
    "\n",
    "from keras import models \n",
    "from keras import layers \n",
    "from keras import callbacks\n",
    "from keras.utils import to_categorical\n",
    "\n",
    "# reuters and fashin mnist data set from keras\n",
    "from keras.datasets import reuters\n",
    "from keras.datasets import fashion_mnist\n",
    "\n",
    "# needed to preprocess text\n",
    "from keras.preprocessing.text import Tokenizer"
   ]
  },
  {
   "cell_type": "markdown",
   "metadata": {},
   "source": [
    "### Classify the Fashion Mnist\n",
    "\n",
    "---"
   ]
  },
  {
   "cell_type": "code",
   "execution_count": 218,
   "metadata": {},
   "outputs": [
    {
     "name": "stdout",
     "output_type": "stream",
     "text": [
      "(60000, 28, 28)\n"
     ]
    },
    {
     "data": {
      "text/plain": [
       "<matplotlib.image.AxesImage at 0x17813d0bdd8>"
      ]
     },
     "execution_count": 218,
     "metadata": {},
     "output_type": "execute_result"
    },
    {
     "data": {
      "image/png": "[encoded data removed]",
      "text/plain": [
       "<Figure size 432x288 with 1 Axes>"
      ]
     },
     "metadata": {
      "needs_background": "light"
     },
     "output_type": "display_data"
    }
   ],
   "source": [
    "(fashion_train_data, fashion_train_labels), (fashion_test_data, fashion_test_labels) = fashion_mnist.load_data()\n",
    "\n",
    "print(fashion_train_data.shape)\n",
    "\n",
    "test_index = 10\n",
    "\n",
    "plt.title(\"Label: \" + str(fashion_train_labels[test_index]))\n",
    "plt.imshow(fashion_train_data[test_index], cmap=\"gray\")"
   ]
  },
  {
   "cell_type": "markdown",
   "metadata": {},
   "source": [
    "#### TO DO: Preprocess the data\n",
    "\n",
    "1. Normalize the input data set\n",
    "2. Perform one hot encoding\n",
    "3. Create a train, test, and validation set"
   ]
  },
  {
   "cell_type": "code",
   "execution_count": 219,
   "metadata": {},
   "outputs": [
    {
     "name": "stdout",
     "output_type": "stream",
     "text": [
      "(60000, 10)\n",
      "(10000, 10)\n",
      "(50000, 784)\n",
      "(50000, 10)\n"
     ]
    }
   ],
   "source": [
    "# Normalize the input data set\n",
    "\n",
    "# flatten arrays\n",
    "fashion_train_data = fashion_train_data.reshape((60000, 28 * 28))\n",
    "# turn values from 0-255 to 0-1\n",
    "fashion_train_data = fashion_train_data.astype('float32') / 255\n",
    "\n",
    "# Standardization for the test images\n",
    "fashion_test_data = fashion_test_data.reshape((10000, 28 * 28)) \n",
    "fashion_test_data = fashion_test_data.astype('float32') / 255\n",
    "\n",
    "# Perform one hot encoding\n",
    "fashion_train_labels = to_categorical(fashion_train_labels)\n",
    "fashion_test_labels = to_categorical(fashion_test_labels)\n",
    "\n",
    "print(fashion_train_labels.shape)\n",
    "print(fashion_test_labels.shape)\n",
    "\n",
    "# Creating a validation set with the first 10000\n",
    "validation_data = fashion_train_data[:10000]\n",
    "validation_labels = fashion_train_labels[:10000]\n",
    "\n",
    "x_data = fashion_train_data[10000:]\n",
    "y_data = fashion_train_labels[10000:]\n",
    "\n",
    "print(x_data.shape)\n",
    "print(y_data.shape)"
   ]
  },
  {
   "cell_type": "markdown",
   "metadata": {},
   "source": [
    "#### TO DO: Define and train a network, then plot the accuracy of the training, validation, and testing\n",
    "\n",
    "1. Use a validation set\n",
    "2. Propose and train a network\n",
    "3. Print the history of the training\n",
    "4. Evaluate with a test set"
   ]
  },
  {
   "cell_type": "code",
   "execution_count": 220,
   "metadata": {},
   "outputs": [
    {
     "name": "stdout",
     "output_type": "stream",
     "text": [
      "_________________________________________________________________\n",
      "Layer (type)                 Output Shape              Param #   \n",
      "=================================================================\n",
      "dense_91 (Dense)             (None, 128)               100480    \n",
      "_________________________________________________________________\n",
      "dropout_64 (Dropout)         (None, 128)               0         \n",
      "_________________________________________________________________\n",
      "dense_92 (Dense)             (None, 64)                8256      \n",
      "_________________________________________________________________\n",
      "dropout_65 (Dropout)         (None, 64)                0         \n",
      "_________________________________________________________________\n",
      "dense_93 (Dense)             (None, 10)                650       \n",
      "=================================================================\n",
      "Total params: 109,386\n",
      "Trainable params: 109,386\n",
      "Non-trainable params: 0\n",
      "_________________________________________________________________\n"
     ]
    }
   ],
   "source": [
    "# Building the model architecture\n",
    "network = models.Sequential()\n",
    "network.add(layers.Dense(128, activation='relu', input_shape= (28 * 28,)))\n",
    "network.add(layers.Dropout(0.3))\n",
    "network.add(layers.Dense(64, activation='relu'))\n",
    "network.add(layers.Dropout(0.3))\n",
    "network.add(layers.Dense(10, activation='softmax'))\n",
    "\n",
    "network.summary()\n",
    "\n",
    "early_stop = callbacks.EarlyStopping(monitor='val_loss', patience=2)\n",
    "network.compile(loss='categorical_crossentropy', optimizer='adam', metrics=['accuracy'])"
   ]
  },
  {
   "cell_type": "code",
   "execution_count": 221,
   "metadata": {},
   "outputs": [
    {
     "name": "stdout",
     "output_type": "stream",
     "text": [
      "Train on 50000 samples, validate on 10000 samples\n",
      "Epoch 1/25\n",
      " - 5s - loss: 0.6531 - acc: 0.7641 - val_loss: 0.4254 - val_acc: 0.8458\n",
      "Epoch 2/25\n",
      " - 4s - loss: 0.4727 - acc: 0.8304 - val_loss: 0.3934 - val_acc: 0.8564\n",
      "Epoch 3/25\n",
      " - 4s - loss: 0.4392 - acc: 0.8428 - val_loss: 0.3648 - val_acc: 0.8714\n",
      "Epoch 4/25\n",
      " - 4s - loss: 0.4140 - acc: 0.8507 - val_loss: 0.3635 - val_acc: 0.8680\n",
      "Epoch 5/25\n",
      " - 4s - loss: 0.3980 - acc: 0.8563 - val_loss: 0.3558 - val_acc: 0.8721\n",
      "Epoch 6/25\n",
      " - 4s - loss: 0.3851 - acc: 0.8607 - val_loss: 0.3356 - val_acc: 0.8739\n",
      "Epoch 7/25\n",
      " - 4s - loss: 0.3705 - acc: 0.8662 - val_loss: 0.3350 - val_acc: 0.8775\n",
      "Epoch 8/25\n",
      " - 4s - loss: 0.3633 - acc: 0.8675 - val_loss: 0.3360 - val_acc: 0.8783\n",
      "Epoch 9/25\n",
      " - 4s - loss: 0.3548 - acc: 0.8705 - val_loss: 0.3300 - val_acc: 0.8784\n",
      "Epoch 10/25\n",
      " - 4s - loss: 0.3497 - acc: 0.8725 - val_loss: 0.3163 - val_acc: 0.8854\n",
      "Epoch 11/25\n",
      " - 4s - loss: 0.3393 - acc: 0.8749 - val_loss: 0.3136 - val_acc: 0.8846\n",
      "Epoch 12/25\n",
      " - 4s - loss: 0.3367 - acc: 0.8779 - val_loss: 0.3198 - val_acc: 0.8841\n",
      "Epoch 13/25\n",
      " - 4s - loss: 0.3327 - acc: 0.8787 - val_loss: 0.3132 - val_acc: 0.8881\n",
      "Epoch 14/25\n",
      " - 4s - loss: 0.3264 - acc: 0.8796 - val_loss: 0.3204 - val_acc: 0.8824\n",
      "Epoch 15/25\n",
      " - 4s - loss: 0.3228 - acc: 0.8816 - val_loss: 0.3123 - val_acc: 0.8845\n",
      "Epoch 16/25\n",
      " - 4s - loss: 0.3198 - acc: 0.8827 - val_loss: 0.3193 - val_acc: 0.8807\n",
      "Epoch 17/25\n",
      " - 4s - loss: 0.3167 - acc: 0.8849 - val_loss: 0.3162 - val_acc: 0.8829\n"
     ]
    }
   ],
   "source": [
    "# Network Training\n",
    "history = network.fit(x_data, y_data, epochs=25, validation_data = (validation_data, validation_labels), callbacks=[early_stop], verbose=2)"
   ]
  },
  {
   "cell_type": "code",
   "execution_count": 222,
   "metadata": {},
   "outputs": [
    {
     "name": "stdout",
     "output_type": "stream",
     "text": [
      "10000/10000 [==============================] - 0s 34us/step\n",
      "test loss:  0.34576726810932157 test accuracy:  0.878\n"
     ]
    }
   ],
   "source": [
    "# Network Evaluation\n",
    "test_loss, test_acc = network.evaluate(fashion_test_data, fashion_test_labels)\n",
    "\n",
    "print(\"test loss: \", test_loss, \"test accuracy: \", test_acc)"
   ]
  },
  {
   "cell_type": "code",
   "execution_count": 223,
   "metadata": {},
   "outputs": [],
   "source": [
    "history_dict = history.history\n",
    "acc = history_dict['acc']\n",
    "val_acc = history_dict['val_acc']\n",
    "loss = history_dict['loss']\n",
    "val_loss = history_dict['val_loss']\n",
    "\n",
    "epochs = range(1, len(acc) + 1)"
   ]
  },
  {
   "cell_type": "code",
   "execution_count": 224,
   "metadata": {},
   "outputs": [
    {
     "data": {
      "image/png": "[encoded data removed]",
      "text/plain": [
       "<Figure size 432x288 with 1 Axes>"
      ]
     },
     "metadata": {
      "needs_background": "light"
     },
     "output_type": "display_data"
    }
   ],
   "source": [
    "# Plot of the validation and training loss\n",
    "\n",
    "# \"bo\" is for \"blue dot\"\n",
    "plt.plot(epochs, loss, 'bo', label='Training loss')\n",
    "# b is for \"solid blue line\"\n",
    "plt.plot(epochs, val_loss, 'b', label='Validation loss')\n",
    "plt.title('Training and validation loss')\n",
    "plt.xlabel('Epochs')\n",
    "plt.ylabel('Loss')\n",
    "plt.legend()\n",
    "\n",
    "plt.show()"
   ]
  },
  {
   "cell_type": "code",
   "execution_count": 225,
   "metadata": {},
   "outputs": [
    {
     "data": {
      "image/png": "[encoded data removed]",
      "text/plain": [
       "<Figure size 432x288 with 1 Axes>"
      ]
     },
     "metadata": {
      "needs_background": "light"
     },
     "output_type": "display_data"
    }
   ],
   "source": [
    "# Plot of the validation and train accuracy\n",
    "\n",
    "plt.clf()   # clear figure\n",
    "\n",
    "plt.plot(epochs, acc, 'bo', label='Training acc')\n",
    "plt.plot(epochs, val_acc, 'b', label='Validation acc')\n",
    "plt.title('Training and validation accuracy')\n",
    "plt.xlabel('Epochs')\n",
    "plt.ylabel('Accuracy')\n",
    "plt.legend()\n",
    "\n",
    "plt.show()"
   ]
  },
  {
   "cell_type": "markdown",
   "metadata": {},
   "source": [
    "#### Process followed to design and improve the model\n",
    "\n",
    "The process I followed to improve and design the model was:\n",
    "\n",
    "1. Followed the processes that we reviewed in class of the example 3 and 4 of Keras\n",
    "2. Use similar normalization of data used for images\n",
    "3. Defined a similar model of network with 3 layers and 2 dropouts (using relu and softmax for activation)\n",
    "4. Defined adam to be the optimizer as that was the recommendation in class\n",
    "5. Tried different combinations of epochs, neurons and layers until the accuracy overcomed 85%"
   ]
  },
  {
   "cell_type": "markdown",
   "metadata": {},
   "source": [
    "## Classifying newswires\n",
    "\n",
    "---\n",
    "\n",
    "Build a network to classify Reuters newswires into 46 different mutually-exclusive topics."
   ]
  },
  {
   "cell_type": "markdown",
   "metadata": {},
   "source": [
    "### Load and review the data"
   ]
  },
  {
   "cell_type": "code",
   "execution_count": 226,
   "metadata": {},
   "outputs": [
    {
     "name": "stdout",
     "output_type": "stream",
     "text": [
      "(8982,)\n",
      "(8982,)\n",
      "[1, 2, 2, 8, 43, 10, 447, 5, 25, 207, 270, 5, 3095, 111, 16, 369, 186, 90, 67, 7, 89, 5, 19, 102, 6, 19, 124, 15, 90, 67, 84, 22, 482, 26, 7, 48, 4, 49, 8, 864, 39, 209, 154, 6, 151, 6, 83, 11, 15, 22, 155, 11, 15, 7, 48, 9, 4579, 1005, 504, 6, 258, 6, 272, 11, 15, 22, 134, 44, 11, 15, 16, 8, 197, 1245, 90, 67, 52, 29, 209, 30, 32, 132, 6, 109, 15, 17, 12]\n",
      "3\n",
      "{0, 1, 2, 3, 4, 5, 6, 7, 8, 9, 10, 11, 12, 13, 14, 15, 16, 17, 18, 19, 20, 21, 22, 23, 24, 25, 26, 27, 28, 29, 30, 31, 32, 33, 34, 35, 36, 37, 38, 39, 40, 41, 42, 43, 44, 45}\n"
     ]
    }
   ],
   "source": [
    "(reuters_train_data, reuters_train_labels), (reuters_test_data, reuters_test_labels) = reuters.load_data(num_words=10000)\n",
    "\n",
    "print(reuters_train_data.shape)\n",
    "print(reuters_train_labels.shape)\n",
    "print(reuters_train_data[0])\n",
    "print(reuters_train_labels[0])\n",
    "\n",
    "print(set(reuters_train_labels))"
   ]
  },
  {
   "cell_type": "markdown",
   "metadata": {},
   "source": [
    "Load the word index to decode the train data."
   ]
  },
  {
   "cell_type": "code",
   "execution_count": 227,
   "metadata": {},
   "outputs": [
    {
     "name": "stdout",
     "output_type": "stream",
     "text": [
      "<START> <UNKNOWN> <UNKNOWN> said as a result of its december acquisition of space co it expects earnings per share in 1987 of 1 15 to 1 30 dlrs per share up from 70 cts in 1986 the company said pretax net should rise to nine to 10 mln dlrs from six mln dlrs in 1986 and rental operation revenues to 19 to 22 mln dlrs from 12 5 mln dlrs it said cash flow per share this year should be 2 50 to three dlrs reuter 3\n"
     ]
    }
   ],
   "source": [
    "word_index = reuters.get_word_index()\n",
    "\n",
    "reverse_index = dict([(value+3, key) for (key, value) in word_index.items()])\n",
    "\n",
    "reverse_index[0] = \"<PAD>\"\n",
    "reverse_index[1] = \"<START>\"\n",
    "reverse_index[2] = \"<UNKNOWN>\"  # unknown\n",
    "reverse_index[3] = \"<UNUSED>\"\n",
    "\n",
    "decoded_review = ' '.join([reverse_index.get(i,'?') for i in reuters_train_data[0]])\n",
    "\n",
    "print(decoded_review)"
   ]
  },
  {
   "cell_type": "markdown",
   "metadata": {},
   "source": [
    "#### TO DO: Preprocess the data\n",
    "\n",
    "1. Normalize the input data set\n",
    "2. Perform one hot encoding\n",
    "3. Create a train, test, and validation set"
   ]
  },
  {
   "cell_type": "code",
   "execution_count": 228,
   "metadata": {},
   "outputs": [
    {
     "name": "stdout",
     "output_type": "stream",
     "text": [
      "(8982, 8982)\n",
      "(2246, 8982)\n",
      "(8982, 46)\n",
      "(2246, 46)\n",
      "(7982, 8982)\n",
      "(7982, 46)\n"
     ]
    }
   ],
   "source": [
    "# Normalize the input data\n",
    "tokenizer = Tokenizer(num_words=8982)\n",
    "train_data_token = tokenizer.sequences_to_matrix(reuters_train_data, mode='binary')\n",
    "test_data_token = tokenizer.sequences_to_matrix(reuters_test_data, mode='binary')\n",
    "\n",
    "print(train_data_token.shape)\n",
    "print(test_data_token.shape)\n",
    "\n",
    "# Perform one-hot-encoding\n",
    "one_hot_train_labels = to_categorical(reuters_train_labels)\n",
    "one_hot_test_labels = to_categorical(reuters_test_labels)\n",
    "\n",
    "print(one_hot_train_labels.shape)\n",
    "print(one_hot_test_labels.shape)\n",
    "\n",
    "# Create a train, test and validation set\n",
    "\n",
    "# validation set\n",
    "validation_data = train_data_token[:1000]\n",
    "validation_labels = one_hot_train_labels[:1000]\n",
    "\n",
    "x_data = train_data_token[1000:]\n",
    "y_data = one_hot_train_labels[1000:]\n",
    "\n",
    "print(x_data.shape)\n",
    "print(y_data.shape)"
   ]
  },
  {
   "cell_type": "markdown",
   "metadata": {},
   "source": [
    "#### TO DO: Define and train a network, then plot the accuracy of the training, validation, and testing\n",
    "\n",
    "1. Use a validation set\n",
    "2. Propose and train a network\n",
    "3. Print the history of the training\n",
    "4. Evaluate with a test set"
   ]
  },
  {
   "cell_type": "code",
   "execution_count": 229,
   "metadata": {
    "scrolled": true
   },
   "outputs": [
    {
     "name": "stdout",
     "output_type": "stream",
     "text": [
      "_________________________________________________________________\n",
      "Layer (type)                 Output Shape              Param #   \n",
      "=================================================================\n",
      "dense_94 (Dense)             (None, 92)                826436    \n",
      "_________________________________________________________________\n",
      "dropout_66 (Dropout)         (None, 92)                0         \n",
      "_________________________________________________________________\n",
      "dense_95 (Dense)             (None, 46)                4278      \n",
      "_________________________________________________________________\n",
      "dropout_67 (Dropout)         (None, 46)                0         \n",
      "=================================================================\n",
      "Total params: 830,714\n",
      "Trainable params: 830,714\n",
      "Non-trainable params: 0\n",
      "_________________________________________________________________\n"
     ]
    }
   ],
   "source": [
    "# Building the model architecture\n",
    "\n",
    "network = models.Sequential()\n",
    "network.add(layers.Dense(92, activation='relu', input_shape= (8982,)))\n",
    "network.add(layers.Dropout(0.3))\n",
    "network.add(layers.Dense(46, activation='softmax'))\n",
    "network.add(layers.Dropout(0.2))\n",
    "network.summary()\n",
    "\n",
    "early_stop = callbacks.EarlyStopping(monitor='val_loss', patience=6)\n",
    "network.compile(loss='categorical_crossentropy', optimizer='adam', metrics=['accuracy'])"
   ]
  },
  {
   "cell_type": "code",
   "execution_count": 230,
   "metadata": {},
   "outputs": [
    {
     "name": "stdout",
     "output_type": "stream",
     "text": [
      "Train on 7982 samples, validate on 1000 samples\n",
      "Epoch 1/15\n",
      " - 5s - loss: 4.3051 - acc: 0.5443 - val_loss: 1.0436 - val_acc: 0.7650\n",
      "Epoch 2/15\n",
      " - 4s - loss: 3.7484 - acc: 0.6766 - val_loss: 0.8489 - val_acc: 0.8260\n",
      "Epoch 3/15\n",
      " - 4s - loss: 3.5623 - acc: 0.7223 - val_loss: 0.7699 - val_acc: 0.8240\n",
      "Epoch 4/15\n",
      " - 3s - loss: 3.5960 - acc: 0.7392 - val_loss: 0.7855 - val_acc: 0.8190\n",
      "Epoch 5/15\n",
      " - 4s - loss: 3.4542 - acc: 0.7506 - val_loss: 0.7880 - val_acc: 0.8300\n",
      "Epoch 6/15\n",
      " - 4s - loss: 3.4655 - acc: 0.7582 - val_loss: 0.7906 - val_acc: 0.8240\n",
      "Epoch 7/15\n",
      " - 4s - loss: 3.4136 - acc: 0.7637 - val_loss: 0.8180 - val_acc: 0.8290\n",
      "Epoch 8/15\n",
      " - 4s - loss: 3.3988 - acc: 0.7667 - val_loss: 0.8458 - val_acc: 0.8180\n",
      "Epoch 9/15\n",
      " - 4s - loss: 3.4021 - acc: 0.7642 - val_loss: 0.8588 - val_acc: 0.8180\n"
     ]
    }
   ],
   "source": [
    "# Network Training\n",
    "history = network.fit(x_data, y_data, epochs=15, validation_data = (validation_data, validation_labels), callbacks=[early_stop], verbose=2)"
   ]
  },
  {
   "cell_type": "code",
   "execution_count": 231,
   "metadata": {},
   "outputs": [
    {
     "name": "stdout",
     "output_type": "stream",
     "text": [
      "2246/2246 [==============================] - 0s 150us/step\n",
      "test loss:  0.9743016037894272 test accuracy:  0.799198575297956\n"
     ]
    }
   ],
   "source": [
    "# Network evaluation\n",
    "\n",
    "test_loss, test_acc = network.evaluate(test_data_token, one_hot_test_labels)\n",
    "\n",
    "print(\"test loss: \", test_loss, \"test accuracy: \", test_acc)"
   ]
  },
  {
   "cell_type": "code",
   "execution_count": 232,
   "metadata": {},
   "outputs": [],
   "source": [
    "history_dict = history.history\n",
    "acc = history_dict['acc']\n",
    "val_acc = history_dict['val_acc']\n",
    "loss = history_dict['loss']\n",
    "val_loss = history_dict['val_loss']\n",
    "\n",
    "epochs = range(1, len(acc) + 1)"
   ]
  },
  {
   "cell_type": "code",
   "execution_count": 233,
   "metadata": {},
   "outputs": [
    {
     "data": {
      "image/png": "[encoded data removed]",
      "text/plain": [
       "<Figure size 432x288 with 1 Axes>"
      ]
     },
     "metadata": {
      "needs_background": "light"
     },
     "output_type": "display_data"
    }
   ],
   "source": [
    "# Plot of the validation and training loss\n",
    "\n",
    "# \"bo\" is for \"blue dot\"\n",
    "plt.plot(epochs, loss, 'bo', label='Training loss')\n",
    "# b is for \"solid blue line\"\n",
    "plt.plot(epochs, val_loss, 'b', label='Validation loss')\n",
    "plt.title('Training and validation loss')\n",
    "plt.xlabel('Epochs')\n",
    "plt.ylabel('Loss')\n",
    "plt.legend()\n",
    "\n",
    "plt.show()"
   ]
  },
  {
   "cell_type": "code",
   "execution_count": 234,
   "metadata": {},
   "outputs": [
    {
     "data": {
      "image/png": "[encoded data removed]",
      "text/plain": [
       "<Figure size 432x288 with 1 Axes>"
      ]
     },
     "metadata": {
      "needs_background": "light"
     },
     "output_type": "display_data"
    }
   ],
   "source": [
    "# Plot of the validation and train accuracy\n",
    "\n",
    "plt.clf()   # clear figure\n",
    "\n",
    "plt.plot(epochs, acc, 'bo', label='Training acc')\n",
    "plt.plot(epochs, val_acc, 'b', label='Validation acc')\n",
    "plt.title('Training and validation accuracy')\n",
    "plt.xlabel('Epochs')\n",
    "plt.ylabel('Accuracy')\n",
    "plt.legend()\n",
    "\n",
    "plt.show()"
   ]
  },
  {
   "cell_type": "markdown",
   "metadata": {},
   "source": [
    "#### Process followed to design and improve the model\n",
    "\n",
    "The process I followed to improve and design the model was: \n",
    "\n",
    "1. Followed the process that we reviewed in class of the example 4 of Keras\n",
    "2. Use similar normalization of data using Tokenizer to convert it to vectors\n",
    "3. Defined a model of network with 2 layers and 1 dropout (using relu and softmax for activation)\n",
    "4. Defined adam to be the optimizer as that was the recommendation in class\n",
    "5. Tried different combinations of epochs, neurons and layers until the accuracy overcomed 85% (but it couldn't)"
   ]
  },
  {
   "cell_type": "markdown",
   "metadata": {},
   "source": [
    "## Predicting Student Admissions\n",
    "\n",
    "---\n",
    "\n",
    "Predict student admissions based on three pieces of data:\n",
    "\n",
    "- GRE Scores\n",
    "- GPA Scores\n",
    "- Class rank"
   ]
  },
  {
   "cell_type": "markdown",
   "metadata": {},
   "source": [
    "### Load and visualize the data"
   ]
  },
  {
   "cell_type": "code",
   "execution_count": 235,
   "metadata": {},
   "outputs": [
    {
     "name": "stdout",
     "output_type": "stream",
     "text": [
      "     admit  gre   gpa  rank\n",
      "0        0  380  3.61     3\n",
      "1        1  660  3.67     3\n",
      "2        1  800  4.00     1\n",
      "3        1  640  3.19     4\n",
      "4        0  520  2.93     4\n",
      "5        1  760  3.00     2\n",
      "6        1  560  2.98     1\n",
      "7        0  400  3.08     2\n",
      "8        1  540  3.39     3\n",
      "9        0  700  3.92     2\n",
      "10       0  800  4.00     4\n",
      "11       0  440  3.22     1\n",
      "12       1  760  4.00     1\n",
      "13       0  700  3.08     2\n",
      "14       1  700  4.00     1\n",
      "15       0  480  3.44     3\n",
      "16       0  780  3.87     4\n",
      "17       0  360  2.56     3\n",
      "18       0  800  3.75     2\n",
      "19       1  540  3.81     1\n",
      "20       0  500  3.17     3\n",
      "21       1  660  3.63     2\n",
      "22       0  600  2.82     4\n",
      "23       0  680  3.19     4\n",
      "24       1  760  3.35     2\n",
      "25       1  800  3.66     1\n",
      "26       1  620  3.61     1\n",
      "27       1  520  3.74     4\n",
      "28       1  780  3.22     2\n",
      "29       0  520  3.29     1\n",
      "..     ...  ...   ...   ...\n",
      "370      1  540  3.77     2\n",
      "371      1  680  3.76     3\n",
      "372      1  680  2.42     1\n",
      "373      1  620  3.37     1\n",
      "374      0  560  3.78     2\n",
      "375      0  560  3.49     4\n",
      "376      0  620  3.63     2\n",
      "377      1  800  4.00     2\n",
      "378      0  640  3.12     3\n",
      "379      0  540  2.70     2\n",
      "380      0  700  3.65     2\n",
      "381      1  540  3.49     2\n",
      "382      0  540  3.51     2\n",
      "383      0  660  4.00     1\n",
      "384      1  480  2.62     2\n",
      "385      0  420  3.02     1\n",
      "386      1  740  3.86     2\n",
      "387      0  580  3.36     2\n",
      "388      0  640  3.17     2\n",
      "389      0  640  3.51     2\n",
      "390      1  800  3.05     2\n",
      "391      1  660  3.88     2\n",
      "392      1  600  3.38     3\n",
      "393      1  620  3.75     2\n",
      "394      1  460  3.99     3\n",
      "395      0  620  4.00     2\n",
      "396      0  560  3.04     3\n",
      "397      0  460  2.63     2\n",
      "398      0  700  3.65     2\n",
      "399      0  600  3.89     3\n",
      "\n",
      "[400 rows x 4 columns]\n"
     ]
    }
   ],
   "source": [
    "student_data = pd.read_csv(\"student_data.csv\")\n",
    "print(student_data)"
   ]
  },
  {
   "cell_type": "markdown",
   "metadata": {},
   "source": [
    "Plot of the GRE and the GPA from the data."
   ]
  },
  {
   "cell_type": "code",
   "execution_count": 236,
   "metadata": {},
   "outputs": [
    {
     "data": {
      "image/png": "[encoded data removed]",
      "text/plain": [
       "<Figure size 432x288 with 1 Axes>"
      ]
     },
     "metadata": {
      "needs_background": "light"
     },
     "output_type": "display_data"
    }
   ],
   "source": [
    "X = np.array(student_data[[\"gre\",\"gpa\"]])\n",
    "y = np.array(student_data[\"admit\"])\n",
    "admitted = X[np.argwhere(y==1)]\n",
    "rejected = X[np.argwhere(y==0)]\n",
    "plt.scatter([s[0][0] for s in rejected], [s[0][1] for s in rejected], s = 25, color = 'red', edgecolor = 'k')\n",
    "plt.scatter([s[0][0] for s in admitted], [s[0][1] for s in admitted], s = 25, color = 'cyan', edgecolor = 'k')\n",
    "plt.xlabel('Test (GRE)')\n",
    "plt.ylabel('Grades (GPA)')\n",
    "\n",
    "plt.show()"
   ]
  },
  {
   "cell_type": "markdown",
   "metadata": {},
   "source": [
    "Plot of the data by class rank."
   ]
  },
  {
   "cell_type": "code",
   "execution_count": 237,
   "metadata": {},
   "outputs": [
    {
     "data": {
      "image/png": "[encoded data removed]",
      "text/plain": [
       "<Figure size 1440x720 with 4 Axes>"
      ]
     },
     "metadata": {
      "needs_background": "light"
     },
     "output_type": "display_data"
    }
   ],
   "source": [
    "f, plots = plt.subplots(2, 2, figsize=(20,10))\n",
    "plots = [plot for sublist in plots for plot in sublist]\n",
    "\n",
    "for idx, plot in enumerate(plots):\n",
    "    data_rank = student_data[student_data[\"rank\"]==idx+1]\n",
    "    plot.set_title(\"Rank \" + str(idx+1))\n",
    "    X = np.array(data_rank[[\"gre\",\"gpa\"]])\n",
    "    y = np.array(data_rank[\"admit\"])\n",
    "    admitted = X[np.argwhere(y==1)]\n",
    "    rejected = X[np.argwhere(y==0)]\n",
    "    plot.scatter([s[0][0] for s in rejected], [s[0][1] for s in rejected], s = 25, color = 'red', edgecolor = 'k')\n",
    "    plot.scatter([s[0][0] for s in admitted], [s[0][1] for s in admitted], s = 25, color = 'cyan', edgecolor = 'k')\n",
    "    plot.set_xlabel('Test (GRE)')\n",
    "    plot.set_ylabel('Grades (GPA)')\n",
    "    "
   ]
  },
  {
   "cell_type": "markdown",
   "metadata": {},
   "source": [
    "#### TO DO: Preprocess the data\n",
    "\n",
    "1. Normalize the input data set\n",
    "2. Perform one hot encoding\n",
    "3. Create a train, test, and validation set"
   ]
  },
  {
   "cell_type": "code",
   "execution_count": 238,
   "metadata": {},
   "outputs": [
    {
     "name": "stdout",
     "output_type": "stream",
     "text": [
      "(400, 4)\n",
      "(250, 2)\n",
      "(150, 2)\n",
      "(250, 6)\n",
      "(150, 6)\n"
     ]
    }
   ],
   "source": [
    "# Normalize the input data\n",
    "\n",
    "mean_gre = np.average(student_data[\"gre\"])\n",
    "std_gre = np.std(student_data[\"gre\"])\n",
    "\n",
    "mean_gpa = np.average(student_data[\"gpa\"])\n",
    "std_gpa = np.std(student_data[\"gpa\"])\n",
    "\n",
    "one_hot_ranks = to_categorical(student_data[\"rank\"] - 1)\n",
    "print(one_hot_ranks.shape)\n",
    "\n",
    "new_gre = ((student_data[\"gre\"] - mean_gre) / std_gre)\n",
    "new_gpa = ((student_data[\"gpa\"] - mean_gpa) / std_gpa)\n",
    "\n",
    "input_set = np.empty([len(student_data[\"gre\"]),6])\n",
    "\n",
    "input_set[:,0] = new_gre\n",
    "input_set[:,1] = new_gpa\n",
    "input_set[:,2:6] = one_hot_ranks\n",
    "\n",
    "# Perform one-hot-encoding\n",
    "\n",
    "one_hot_train_labels = to_categorical(student_data[\"admit\"][:250])\n",
    "one_hot_test_labels = to_categorical(student_data[\"admit\"][250:])\n",
    "\n",
    "print(one_hot_train_labels.shape)\n",
    "print(one_hot_test_labels.shape)\n",
    "\n",
    "# Create a train, test and validation set\n",
    "\n",
    "train_data = input_set[:250]\n",
    "test_data = input_set[250:]\n",
    "\n",
    "validation_data = input_set[250:]\n",
    "validation_labels = to_categorical(student_data[\"admit\"][250:])\n",
    "\n",
    "print(train_data.shape)\n",
    "print(test_data.shape)"
   ]
  },
  {
   "cell_type": "markdown",
   "metadata": {},
   "source": [
    "#### TO DO: Define and train a network, then plot the accuracy of the training, validation, and testing\n",
    "\n",
    "1. Use a validation set\n",
    "2. Propose and train a network\n",
    "3. Print the history of the training\n",
    "4. Evaluate with a test set"
   ]
  },
  {
   "cell_type": "code",
   "execution_count": 239,
   "metadata": {
    "scrolled": true
   },
   "outputs": [
    {
     "name": "stdout",
     "output_type": "stream",
     "text": [
      "_________________________________________________________________\n",
      "Layer (type)                 Output Shape              Param #   \n",
      "=================================================================\n",
      "dense_96 (Dense)             (None, 256)               1792      \n",
      "_________________________________________________________________\n",
      "dropout_68 (Dropout)         (None, 256)               0         \n",
      "_________________________________________________________________\n",
      "dense_97 (Dense)             (None, 32)                8224      \n",
      "_________________________________________________________________\n",
      "dropout_69 (Dropout)         (None, 32)                0         \n",
      "_________________________________________________________________\n",
      "dense_98 (Dense)             (None, 2)                 66        \n",
      "=================================================================\n",
      "Total params: 10,082\n",
      "Trainable params: 10,082\n",
      "Non-trainable params: 0\n",
      "_________________________________________________________________\n"
     ]
    }
   ],
   "source": [
    "# Building the model architecture\n",
    "\n",
    "network = models.Sequential()\n",
    "network.add(layers.Dense(256, activation='relu', input_dim = 6))\n",
    "network.add(layers.Dropout(0.4))\n",
    "network.add(layers.Dense(32, activation='relu'))\n",
    "network.add(layers.Dropout(0.2))\n",
    "network.add(layers.Dense(2, activation='softmax'))\n",
    "network.summary()\n",
    "\n",
    "early_stop = callbacks.EarlyStopping(monitor='val_loss', patience=20)\n",
    "network.compile(loss='binary_crossentropy', optimizer='adam', metrics=['accuracy'])"
   ]
  },
  {
   "cell_type": "code",
   "execution_count": 240,
   "metadata": {
    "scrolled": false
   },
   "outputs": [
    {
     "name": "stdout",
     "output_type": "stream",
     "text": [
      "Train on 250 samples, validate on 150 samples\n",
      "Epoch 1/512\n",
      " - 1s - loss: 0.6115 - acc: 0.6880 - val_loss: 0.6451 - val_acc: 0.6333\n",
      "Epoch 2/512\n",
      " - 0s - loss: 0.5540 - acc: 0.7120 - val_loss: 0.6717 - val_acc: 0.6333\n",
      "Epoch 3/512\n",
      " - 0s - loss: 0.5545 - acc: 0.7120 - val_loss: 0.6942 - val_acc: 0.6333\n",
      "Epoch 4/512\n",
      " - 0s - loss: 0.5264 - acc: 0.7160 - val_loss: 0.6909 - val_acc: 0.6200\n",
      "Epoch 5/512\n",
      " - 0s - loss: 0.5224 - acc: 0.7600 - val_loss: 0.6866 - val_acc: 0.6200\n",
      "Epoch 6/512\n",
      " - 0s - loss: 0.5252 - acc: 0.7600 - val_loss: 0.6866 - val_acc: 0.6333\n",
      "Epoch 7/512\n",
      " - 0s - loss: 0.5194 - acc: 0.7360 - val_loss: 0.6968 - val_acc: 0.6333\n",
      "Epoch 8/512\n",
      " - 0s - loss: 0.5298 - acc: 0.7440 - val_loss: 0.6924 - val_acc: 0.6400\n",
      "Epoch 9/512\n",
      " - 0s - loss: 0.5068 - acc: 0.7600 - val_loss: 0.7076 - val_acc: 0.6400\n",
      "Epoch 10/512\n",
      " - 0s - loss: 0.4985 - acc: 0.7480 - val_loss: 0.7198 - val_acc: 0.6400\n",
      "Epoch 11/512\n",
      " - 0s - loss: 0.5017 - acc: 0.7800 - val_loss: 0.7217 - val_acc: 0.6467\n",
      "Epoch 12/512\n",
      " - 0s - loss: 0.5007 - acc: 0.7720 - val_loss: 0.7261 - val_acc: 0.6600\n",
      "Epoch 13/512\n",
      " - 0s - loss: 0.5112 - acc: 0.7720 - val_loss: 0.7221 - val_acc: 0.6533\n",
      "Epoch 14/512\n",
      " - 0s - loss: 0.4956 - acc: 0.7560 - val_loss: 0.7303 - val_acc: 0.6467\n",
      "Epoch 15/512\n",
      " - 0s - loss: 0.5054 - acc: 0.7400 - val_loss: 0.7239 - val_acc: 0.6533\n",
      "Epoch 16/512\n",
      " - 0s - loss: 0.4957 - acc: 0.7600 - val_loss: 0.7361 - val_acc: 0.6467\n",
      "Epoch 17/512\n",
      " - 0s - loss: 0.5018 - acc: 0.7520 - val_loss: 0.7358 - val_acc: 0.6533\n",
      "Epoch 18/512\n",
      " - 0s - loss: 0.4823 - acc: 0.7400 - val_loss: 0.7314 - val_acc: 0.6600\n",
      "Epoch 19/512\n",
      " - 0s - loss: 0.5034 - acc: 0.7560 - val_loss: 0.7343 - val_acc: 0.6400\n",
      "Epoch 20/512\n",
      " - 0s - loss: 0.5064 - acc: 0.7880 - val_loss: 0.7316 - val_acc: 0.6267\n",
      "Epoch 21/512\n",
      " - 0s - loss: 0.5002 - acc: 0.7440 - val_loss: 0.7357 - val_acc: 0.6400\n"
     ]
    }
   ],
   "source": [
    "## Network Training\n",
    "history =  network.fit(train_data, one_hot_train_labels, epochs=512, validation_data = (validation_data, validation_labels), callbacks=[early_stop], verbose=2)"
   ]
  },
  {
   "cell_type": "code",
   "execution_count": 241,
   "metadata": {},
   "outputs": [
    {
     "name": "stdout",
     "output_type": "stream",
     "text": [
      "150/150 [==============================] - 0s 86us/step\n",
      "test loss:  0.7356943996747335 test accuracy:  0.6399999984105428\n"
     ]
    }
   ],
   "source": [
    "# Network evaluation\n",
    "test_loss, test_acc = network.evaluate(test_data, one_hot_test_labels)\n",
    "\n",
    "print(\"test loss: \", test_loss, \"test accuracy: \", test_acc)"
   ]
  },
  {
   "cell_type": "code",
   "execution_count": 242,
   "metadata": {},
   "outputs": [],
   "source": [
    "history_dict = history.history\n",
    "acc = history_dict['acc']\n",
    "val_acc = history_dict['val_acc']\n",
    "loss = history_dict['loss']\n",
    "val_loss = history_dict['val_loss']\n",
    "\n",
    "epochs = range(1, len(acc) + 1)"
   ]
  },
  {
   "cell_type": "code",
   "execution_count": 243,
   "metadata": {},
   "outputs": [
    {
     "data": {
      "image/png": "[encoded data removed]",
      "text/plain": [
       "<Figure size 432x288 with 1 Axes>"
      ]
     },
     "metadata": {
      "needs_background": "light"
     },
     "output_type": "display_data"
    }
   ],
   "source": [
    "# Plot of the validation and training loss\n",
    "\n",
    "# \"bo\" is for \"blue dot\"\n",
    "plt.plot(epochs, loss, 'bo', label='Training loss')\n",
    "# b is for \"solid blue line\"\n",
    "plt.plot(epochs, val_loss, 'b', label='Validation loss')\n",
    "plt.title('Training and validation loss')\n",
    "plt.xlabel('Epochs')\n",
    "plt.ylabel('Loss')\n",
    "plt.legend()\n",
    "\n",
    "plt.show()"
   ]
  },
  {
   "cell_type": "code",
   "execution_count": 244,
   "metadata": {},
   "outputs": [
    {
     "data": {
      "image/png": "[encoded data removed]",
      "text/plain": [
       "<Figure size 432x288 with 1 Axes>"
      ]
     },
     "metadata": {
      "needs_background": "light"
     },
     "output_type": "display_data"
    }
   ],
   "source": [
    "# Plot of the validation and train accuracy\n",
    "\n",
    "plt.clf()   # clear figure\n",
    "\n",
    "plt.plot(epochs, acc, 'bo', label='Training acc')\n",
    "plt.plot(epochs, val_acc, 'b', label='Validation acc')\n",
    "plt.title('Training and validation accuracy')\n",
    "plt.xlabel('Epochs')\n",
    "plt.ylabel('Accuracy')\n",
    "plt.legend()\n",
    "\n",
    "plt.show()"
   ]
  },
  {
   "cell_type": "markdown",
   "metadata": {},
   "source": [
    "#### Process followed to design and improve the model\n",
    "\n",
    "The process I followed to improve and design the model was: \n",
    "\n",
    "1. Followed the process that we reviewed in class of the example 2 of Neural Networks and the notebook from last class (february 18)\n",
    "2. Use normalization of data where one-hot-encoding, mean and standard deviation are the key\n",
    "3. Defined a model of network with 3 layers and 2 dropouts (using relu and softmax for activation)\n",
    "4. Defined adam to be the optimizer as that was the recommendation in class\n",
    "5. Tried different combinations of epochs, neurons and layers until the accuracy overcomed 85% (but it couldn't)"
   ]
  }
 ],
 "metadata": {
  "kernelspec": {
   "display_name": "Python 3",
   "language": "python",
   "name": "python3"
  },
  "language_info": {
   "codemirror_mode": {
    "name": "ipython",
    "version": 3
   },
   "file_extension": ".py",
   "mimetype": "text/x-python",
   "name": "python",
   "nbconvert_exporter": "python",
   "pygments_lexer": "ipython3",
   "version": "3.6.8"
  }
 },
 "nbformat": 4,
 "nbformat_minor": 2
}
